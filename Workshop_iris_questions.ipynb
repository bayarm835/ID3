{
 "cells": [
  {
   "cell_type": "code",
   "execution_count": 50,
   "id": "989bb316",
   "metadata": {},
   "outputs": [],
   "source": [
    "# Importation des librairies\n",
    "\n",
    "import numpy as np \n",
    "import matplotlib.pyplot as plt \n",
    "import pandas as pd \n",
    "import sklearn\n",
    "from sklearn import *\n",
    "from sklearn.model_selection import train_test_split\n",
    "from sklearn.linear_model import LogisticRegression\n",
    "from sklearn.metrics import accuracy_score\n",
    "from sklearn.metrics import confusion_matrix\n",
    "from sklearn.metrics import classification_report\n",
    "from sklearn.tree import DecisionTreeClassifier"
   ]
  },
  {
   "cell_type": "code",
   "execution_count": 51,
   "id": "2aee50f9",
   "metadata": {},
   "outputs": [
    {
     "name": "stdout",
     "output_type": "stream",
     "text": [
      "   petal length (cm)  petal width (cm)\n",
      "0                1.4               0.2\n",
      "1                1.4               0.2\n",
      "2                1.3               0.2\n",
      "3                1.5               0.2\n",
      "4                1.4               0.2\n",
      "5                1.7               0.4\n",
      "6                1.4               0.3\n",
      "7                1.5               0.2\n",
      "8                1.4               0.2\n",
      "9                1.5               0.1\n"
     ]
    }
   ],
   "source": [
    "# Charger les données Iris\n",
    "data = datasets.load_iris()\n",
    "\n",
    "# Créer un DataFrame pandas à partir des données\n",
    "df = pd.DataFrame(data.data, columns=data.feature_names)\n",
    "\n",
    "# Sélectionner uniquement certaines colonnes\n",
    "colonnes_specifiques = ['petal length (cm)', 'petal width (cm)']\n",
    "df_subset = df[colonnes_specifiques]\n",
    "\n",
    "# Afficher les premières lignes du DataFrame subset\n",
    "print(df_subset.head(10))"
   ]
  },
  {
   "cell_type": "code",
   "execution_count": 52,
   "id": "df084b83",
   "metadata": {},
   "outputs": [],
   "source": [
    "# Ajouter la colonne de la cible (target) à DataFrame\n",
    "df['target'] = data.target\n",
    "\n",
    "# Séparer les caractéristiques (features) et les cibles (targets)\n",
    "X = df.drop(['target', 'sepal length (cm)', 'sepal width (cm)'], axis=1)\n",
    "y = df['target']\n"
   ]
  },
  {
   "cell_type": "code",
   "execution_count": 53,
   "id": "a5c834d2",
   "metadata": {},
   "outputs": [
    {
     "data": {
      "text/plain": [
       "array(['setosa', 'versicolor', 'virginica'], dtype='<U10')"
      ]
     },
     "execution_count": 53,
     "metadata": {},
     "output_type": "execute_result"
    }
   ],
   "source": [
    "# Les noms des targets\n",
    "\n",
    "data.target_names"
   ]
  },
  {
   "cell_type": "code",
   "execution_count": 54,
   "id": "f33afb55",
   "metadata": {},
   "outputs": [
    {
     "data": {
      "text/plain": [
       "array([50, 50, 50], dtype=int64)"
      ]
     },
     "execution_count": 54,
     "metadata": {},
     "output_type": "execute_result"
    }
   ],
   "source": [
    "# Combien y a-t-il d'exemples de chaque classe ?\n",
    "\n",
    "np.bincount(data.target)"
   ]
  },
  {
   "cell_type": "code",
   "execution_count": 77,
   "id": "ac493c4c",
   "metadata": {},
   "outputs": [],
   "source": [
    "# Création jeu d'apprentissage et de test\n",
    "\n",
    "X_train, X_test, y_train, y_test = train_test_split(X,y,test_size=0.2,random_state=0)"
   ]
  },
  {
   "cell_type": "code",
   "execution_count": 78,
   "id": "47ec3617",
   "metadata": {},
   "outputs": [],
   "source": [
    "# Construire un arbre de décision\n",
    "\n",
    "classifier_tree = DecisionTreeClassifier()"
   ]
  },
  {
   "cell_type": "code",
   "execution_count": 79,
   "id": "24a1933c",
   "metadata": {},
   "outputs": [
    {
     "data": {
      "text/html": [
       "<style>#sk-container-id-6 {color: black;}#sk-container-id-6 pre{padding: 0;}#sk-container-id-6 div.sk-toggleable {background-color: white;}#sk-container-id-6 label.sk-toggleable__label {cursor: pointer;display: block;width: 100%;margin-bottom: 0;padding: 0.3em;box-sizing: border-box;text-align: center;}#sk-container-id-6 label.sk-toggleable__label-arrow:before {content: \"▸\";float: left;margin-right: 0.25em;color: #696969;}#sk-container-id-6 label.sk-toggleable__label-arrow:hover:before {color: black;}#sk-container-id-6 div.sk-estimator:hover label.sk-toggleable__label-arrow:before {color: black;}#sk-container-id-6 div.sk-toggleable__content {max-height: 0;max-width: 0;overflow: hidden;text-align: left;background-color: #f0f8ff;}#sk-container-id-6 div.sk-toggleable__content pre {margin: 0.2em;color: black;border-radius: 0.25em;background-color: #f0f8ff;}#sk-container-id-6 input.sk-toggleable__control:checked~div.sk-toggleable__content {max-height: 200px;max-width: 100%;overflow: auto;}#sk-container-id-6 input.sk-toggleable__control:checked~label.sk-toggleable__label-arrow:before {content: \"▾\";}#sk-container-id-6 div.sk-estimator input.sk-toggleable__control:checked~label.sk-toggleable__label {background-color: #d4ebff;}#sk-container-id-6 div.sk-label input.sk-toggleable__control:checked~label.sk-toggleable__label {background-color: #d4ebff;}#sk-container-id-6 input.sk-hidden--visually {border: 0;clip: rect(1px 1px 1px 1px);clip: rect(1px, 1px, 1px, 1px);height: 1px;margin: -1px;overflow: hidden;padding: 0;position: absolute;width: 1px;}#sk-container-id-6 div.sk-estimator {font-family: monospace;background-color: #f0f8ff;border: 1px dotted black;border-radius: 0.25em;box-sizing: border-box;margin-bottom: 0.5em;}#sk-container-id-6 div.sk-estimator:hover {background-color: #d4ebff;}#sk-container-id-6 div.sk-parallel-item::after {content: \"\";width: 100%;border-bottom: 1px solid gray;flex-grow: 1;}#sk-container-id-6 div.sk-label:hover label.sk-toggleable__label {background-color: #d4ebff;}#sk-container-id-6 div.sk-serial::before {content: \"\";position: absolute;border-left: 1px solid gray;box-sizing: border-box;top: 0;bottom: 0;left: 50%;z-index: 0;}#sk-container-id-6 div.sk-serial {display: flex;flex-direction: column;align-items: center;background-color: white;padding-right: 0.2em;padding-left: 0.2em;position: relative;}#sk-container-id-6 div.sk-item {position: relative;z-index: 1;}#sk-container-id-6 div.sk-parallel {display: flex;align-items: stretch;justify-content: center;background-color: white;position: relative;}#sk-container-id-6 div.sk-item::before, #sk-container-id-6 div.sk-parallel-item::before {content: \"\";position: absolute;border-left: 1px solid gray;box-sizing: border-box;top: 0;bottom: 0;left: 50%;z-index: -1;}#sk-container-id-6 div.sk-parallel-item {display: flex;flex-direction: column;z-index: 1;position: relative;background-color: white;}#sk-container-id-6 div.sk-parallel-item:first-child::after {align-self: flex-end;width: 50%;}#sk-container-id-6 div.sk-parallel-item:last-child::after {align-self: flex-start;width: 50%;}#sk-container-id-6 div.sk-parallel-item:only-child::after {width: 0;}#sk-container-id-6 div.sk-dashed-wrapped {border: 1px dashed gray;margin: 0 0.4em 0.5em 0.4em;box-sizing: border-box;padding-bottom: 0.4em;background-color: white;}#sk-container-id-6 div.sk-label label {font-family: monospace;font-weight: bold;display: inline-block;line-height: 1.2em;}#sk-container-id-6 div.sk-label-container {text-align: center;}#sk-container-id-6 div.sk-container {/* jupyter's `normalize.less` sets `[hidden] { display: none; }` but bootstrap.min.css set `[hidden] { display: none !important; }` so we also need the `!important` here to be able to override the default hidden behavior on the sphinx rendered scikit-learn.org. See: https://github.com/scikit-learn/scikit-learn/issues/21755 */display: inline-block !important;position: relative;}#sk-container-id-6 div.sk-text-repr-fallback {display: none;}</style><div id=\"sk-container-id-6\" class=\"sk-top-container\"><div class=\"sk-text-repr-fallback\"><pre>DecisionTreeClassifier()</pre><b>In a Jupyter environment, please rerun this cell to show the HTML representation or trust the notebook. <br />On GitHub, the HTML representation is unable to render, please try loading this page with nbviewer.org.</b></div><div class=\"sk-container\" hidden><div class=\"sk-item\"><div class=\"sk-estimator sk-toggleable\"><input class=\"sk-toggleable__control sk-hidden--visually\" id=\"sk-estimator-id-6\" type=\"checkbox\" checked><label for=\"sk-estimator-id-6\" class=\"sk-toggleable__label sk-toggleable__label-arrow\">DecisionTreeClassifier</label><div class=\"sk-toggleable__content\"><pre>DecisionTreeClassifier()</pre></div></div></div></div></div>"
      ],
      "text/plain": [
       "DecisionTreeClassifier()"
      ]
     },
     "execution_count": 79,
     "metadata": {},
     "output_type": "execute_result"
    }
   ],
   "source": [
    "# Construire un arbre de décision\n",
    "\n",
    "classifier_tree.fit(X_train, y_train)"
   ]
  },
  {
   "cell_type": "code",
   "execution_count": 80,
   "id": "04e94356",
   "metadata": {},
   "outputs": [
    {
     "name": "stdout",
     "output_type": "stream",
     "text": [
      "[2 1 0 2 0 2 0 1 1 1 2 1 1 1 1 0 1 1 0 0 2 1 0 0 1 0 0 1 1 0]\n"
     ]
    }
   ],
   "source": [
    "predictions = classifier_tree.predict(X_test)\n",
    "print(predictions) # modèle qui a prédit "
   ]
  },
  {
   "cell_type": "code",
   "execution_count": 81,
   "id": "7dddb85b",
   "metadata": {},
   "outputs": [
    {
     "name": "stdout",
     "output_type": "stream",
     "text": [
      "Le teux de performance est de : 0.9666666666666667\n"
     ]
    }
   ],
   "source": [
    "# Calculer le taux de performance du modèle\n",
    "\n",
    "accuracy = classifier_tree.score(X_test, y_test)\n",
    "print(\"Le teux de performance est de :\", accuracy)"
   ]
  },
  {
   "cell_type": "code",
   "execution_count": 82,
   "id": "b4157c80",
   "metadata": {
    "scrolled": true
   },
   "outputs": [
    {
     "name": "stdout",
     "output_type": "stream",
     "text": [
      "[[11  0  0]\n",
      " [ 0 13  0]\n",
      " [ 0  1  5]]\n"
     ]
    }
   ],
   "source": [
    "print(confusion_matrix(y_test,predictions))"
   ]
  },
  {
   "cell_type": "code",
   "execution_count": 83,
   "id": "85439ba7",
   "metadata": {},
   "outputs": [
    {
     "name": "stdout",
     "output_type": "stream",
     "text": [
      "              precision    recall  f1-score   support\n",
      "\n",
      "           0       1.00      1.00      1.00        11\n",
      "           1       0.93      1.00      0.96        13\n",
      "           2       1.00      0.83      0.91         6\n",
      "\n",
      "    accuracy                           0.97        30\n",
      "   macro avg       0.98      0.94      0.96        30\n",
      "weighted avg       0.97      0.97      0.97        30\n",
      "\n"
     ]
    }
   ],
   "source": [
    "print(classification_report(y_test,predictions))"
   ]
  },
  {
   "cell_type": "code",
   "execution_count": 85,
   "id": "29b84b86",
   "metadata": {
    "scrolled": true
   },
   "outputs": [
    {
     "name": "stdout",
     "output_type": "stream",
     "text": [
      "L'accuracy avec le paramètre max_depth= 3  est de :  0.9666666666666667\n",
      "L'accuracy avec le paramètre max_depth= 4  est de :  0.9666666666666667\n",
      "L'accuracy avec le paramètre max_depth= 5  est de :  0.9666666666666667\n",
      "L'accuracy avec le paramètre max_depth= 6  est de :  0.9666666666666667\n",
      "L'accuracy avec le paramètre max_depth= 7  est de :  0.9666666666666667\n",
      "L'accuracy avec le paramètre max_depth= 8  est de :  0.9666666666666667\n",
      "L'accuracy avec le paramètre max_depth= 9  est de :  0.9666666666666667\n",
      "L'accuracy avec le paramètre max_depth= 10  est de :  0.9666666666666667\n"
     ]
    }
   ],
   "source": [
    "# Faire une fonction qui test le paramètre max_depth du 3 au 10\n",
    "\n",
    "for mdepth in [3,4,5,6,7,8,9,10]:\n",
    "    clf = tree.DecisionTreeClassifier(max_depth=mdepth)\n",
    "    clf = clf.fit(X_train, y_train)\n",
    "    print(\"L'accuracy avec le paramètre max_depth=\", mdepth, \" est de : \",(clf.score(X_test, y_test)))"
   ]
  },
  {
   "cell_type": "code",
   "execution_count": 86,
   "id": "0e339dcc",
   "metadata": {},
   "outputs": [
    {
     "name": "stdout",
     "output_type": "stream",
     "text": [
      "L'accuracy avec le paramètre max_depth= 3  est de :  0.9666666666666667\n",
      "L'accuracy avec le paramètre max_depth= 4  est de :  0.9833333333333333\n",
      "L'accuracy avec le paramètre max_depth= 5  est de :  0.9916666666666667\n",
      "L'accuracy avec le paramètre max_depth= 6  est de :  0.9916666666666667\n",
      "L'accuracy avec le paramètre max_depth= 7  est de :  0.9916666666666667\n",
      "L'accuracy avec le paramètre max_depth= 8  est de :  0.9916666666666667\n",
      "L'accuracy avec le paramètre max_depth= 9  est de :  0.9916666666666667\n",
      "L'accuracy avec le paramètre max_depth= 10  est de :  0.9916666666666667\n"
     ]
    }
   ],
   "source": [
    "# Faire une fonction qui test le paramètre max_depth du 3 au 10\n",
    "\n",
    "for mdepth in [3,4,5,6,7,8,9,10]:\n",
    "    clf = tree.DecisionTreeClassifier(max_depth=mdepth)\n",
    "    clf = clf.fit(X_train, y_train)\n",
    "    print(\"L'accuracy avec le paramètre max_depth=\", mdepth, \" est de : \",(clf.score(X_train, y_train)))"
   ]
  },
  {
   "cell_type": "code",
   "execution_count": 87,
   "id": "248d992c",
   "metadata": {
    "scrolled": true
   },
   "outputs": [
    {
     "data": {
      "text/plain": [
       "0.9777777777777777"
      ]
     },
     "execution_count": 87,
     "metadata": {},
     "output_type": "execute_result"
    }
   ],
   "source": [
    "from sklearn import model_selection\n",
    "X_train, X_test, y_train, y_test = model_selection.train_test_split(X,y,\n",
    "    test_size=0.30, random_state=0)\n",
    "from sklearn.model_selection import GridSearchCV\n",
    "pgrid = {\"max_depth\": [1, 2, 3, 4, 5, 6, 7],\n",
    "      \"min_samples_split\": [2, 3, 5, 10, 15, 20]}\n",
    "grid_search = GridSearchCV(DecisionTreeClassifier(), param_grid=pgrid, cv=10)\n",
    "grid_search.fit(X_train, y_train)\n",
    "grid_search.best_estimator_.score(X_test, y_test)\n"
   ]
  },
  {
   "cell_type": "code",
   "execution_count": null,
   "id": "f1f3faf7",
   "metadata": {},
   "outputs": [],
   "source": []
  },
  {
   "cell_type": "code",
   "execution_count": null,
   "id": "efbc56df",
   "metadata": {},
   "outputs": [],
   "source": []
  }
 ],
 "metadata": {
  "kernelspec": {
   "display_name": "Python 3 (ipykernel)",
   "language": "python",
   "name": "python3"
  },
  "language_info": {
   "codemirror_mode": {
    "name": "ipython",
    "version": 3
   },
   "file_extension": ".py",
   "mimetype": "text/x-python",
   "name": "python",
   "nbconvert_exporter": "python",
   "pygments_lexer": "ipython3",
   "version": "3.11.5"
  }
 },
 "nbformat": 4,
 "nbformat_minor": 5
}
